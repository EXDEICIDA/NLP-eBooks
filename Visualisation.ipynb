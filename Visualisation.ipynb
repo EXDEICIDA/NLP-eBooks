{
 "cells": [
  {
   "cell_type": "markdown",
   "id": "d9c2bc8b-673e-4fbc-8b27-5c16b2d83376",
   "metadata": {},
   "source": [
    "# Loding the book"
   ]
  },
  {
   "cell_type": "code",
   "execution_count": 1,
   "id": "2f238ab1-c845-4efd-a654-fd6efeb23e05",
   "metadata": {},
   "outputs": [],
   "source": [
    "with open(\"miracle_in_the_andes-test.txt\", \"r\", encoding=\"utf-8\") as file:\n",
    "    book = file.read()"
   ]
  },
  {
   "cell_type": "markdown",
   "id": "f5e41750-548f-4f98-be61-71fe151f4bda",
   "metadata": {},
   "source": [
    "# The most used words(non-articles)"
   ]
  },
  {
   "cell_type": "code",
   "execution_count": 2,
   "id": "45f66c02-2098-4043-ba72-ead5bef4c285",
   "metadata": {},
   "outputs": [
    {
     "data": {
      "text/plain": [
       "['chapter', 'before', 'it', 'was', 'friday']"
      ]
     },
     "execution_count": 2,
     "metadata": {},
     "output_type": "execute_result"
    }
   ],
   "source": [
    "import re\n",
    "pattern = re.compile(\"[a-zA-Z]+\")\n",
    "findings = re.findall(pattern,book.lower())\n",
    "findings[:5]"
   ]
  },
  {
   "cell_type": "code",
   "execution_count": 3,
   "id": "0060a146-e0ae-4c0f-ac14-716ed81c8806",
   "metadata": {},
   "outputs": [],
   "source": [
    "d = {}\n",
    "for word in findings:\n",
    "    if word in d.keys():\n",
    "        d[word] = d[word] + 1\n",
    "    else:\n",
    "        d[word] = 1\n",
    "        "
   ]
  },
  {
   "cell_type": "code",
   "execution_count": 4,
   "id": "13a57c37-77b3-4bfc-ab5c-f68b663f4863",
   "metadata": {},
   "outputs": [
    {
     "data": {
      "text/plain": [
       "[(11, 'chapter'), (93, 'before'), (800, 'it'), (1430, 'was'), (1, 'friday')]"
      ]
     },
     "execution_count": 4,
     "metadata": {},
     "output_type": "execute_result"
    }
   ],
   "source": [
    "d_list = [(value,key) for (key,value) in d.items()]\n",
    "sorted(d_list,reverse = True)\n",
    "d_list[:5]"
   ]
  },
  {
   "cell_type": "code",
   "execution_count": 5,
   "id": "d27f9fe7-6808-49c4-89e0-7458fbb4537f",
   "metadata": {},
   "outputs": [
    {
     "data": {
      "text/plain": [
       "'3.11.9'"
      ]
     },
     "execution_count": 5,
     "metadata": {},
     "output_type": "execute_result"
    }
   ],
   "source": [
    "from platform import python_version\n",
    "python_version()"
   ]
  },
  {
   "cell_type": "code",
   "execution_count": 6,
   "id": "695edb12-bdf6-46e6-aaba-2fa59176253c",
   "metadata": {},
   "outputs": [
    {
     "name": "stdout",
     "output_type": "stream",
     "text": [
      "Requirement already satisfied: nltk in c:\\users\\deicida\\pycharmprojects\\regex-implemention\\.venv\\lib\\site-packages (3.9.1)\n",
      "Requirement already satisfied: click in c:\\users\\deicida\\pycharmprojects\\regex-implemention\\.venv\\lib\\site-packages (from nltk) (8.1.8)\n",
      "Requirement already satisfied: joblib in c:\\users\\deicida\\pycharmprojects\\regex-implemention\\.venv\\lib\\site-packages (from nltk) (1.4.2)\n",
      "Requirement already satisfied: regex>=2021.8.3 in c:\\users\\deicida\\pycharmprojects\\regex-implemention\\.venv\\lib\\site-packages (from nltk) (2024.11.6)\n",
      "Requirement already satisfied: tqdm in c:\\users\\deicida\\pycharmprojects\\regex-implemention\\.venv\\lib\\site-packages (from nltk) (4.67.1)\n",
      "Requirement already satisfied: colorama in c:\\users\\deicida\\pycharmprojects\\regex-implemention\\.venv\\lib\\site-packages (from click->nltk) (0.4.6)\n"
     ]
    },
    {
     "name": "stderr",
     "output_type": "stream",
     "text": [
      "\n",
      "[notice] A new release of pip is available: 23.2.1 -> 24.3.1\n",
      "[notice] To update, run: python.exe -m pip install --upgrade pip\n"
     ]
    }
   ],
   "source": [
    "!pip3.11  install nltk"
   ]
  },
  {
   "cell_type": "code",
   "execution_count": 12,
   "id": "1ed13bdc-d233-4a10-8ee5-cefc9b5bc9f2",
   "metadata": {},
   "outputs": [],
   "source": [
    "import nltk\n",
    "from nltk.corpus import stopwords\n",
    "# Get English stopwords\n",
    "english_stopwords = stopwords.words(\"english\")"
   ]
  },
  {
   "cell_type": "code",
   "execution_count": 15,
   "id": "b2c91266-6704-4e89-b94f-c7ab63659899",
   "metadata": {},
   "outputs": [],
   "source": [
    "filtered_words = []\n",
    "for count, word in d_list:\n",
    "    if word not in english_stopwords:\n",
    "        filtered_words.append((word,count))"
   ]
  },
  {
   "cell_type": "code",
   "execution_count": 16,
   "id": "6bd89f02-a8b0-4082-9e4c-e34392cb8cbf",
   "metadata": {},
   "outputs": [
    {
     "data": {
      "text/plain": [
       "[('chapter', 11),\n",
       " ('friday', 1),\n",
       " ('thirteenth', 1),\n",
       " ('october', 8),\n",
       " ('joked', 3),\n",
       " ('flying', 15),\n",
       " ('andes', 79),\n",
       " ('unlucky', 1),\n",
       " ('day', 88),\n",
       " ('young', 34)]"
      ]
     },
     "execution_count": 16,
     "metadata": {},
     "output_type": "execute_result"
    }
   ],
   "source": [
    "filtered_words[:10]"
   ]
  },
  {
   "cell_type": "markdown",
   "id": "299c5ce3-b99e-4f42-b2d2-f7281ff7ef03",
   "metadata": {},
   "source": [
    "# Sentiment Analaysis: What is the most positive and the most negative chapter?"
   ]
  },
  {
   "cell_type": "markdown",
   "id": "94278037-82f4-4229-a51d-e1d4492ad318",
   "metadata": {},
   "source": [
    "# An example of usage "
   ]
  },
  {
   "cell_type": "code",
   "execution_count": 24,
   "id": "5ab6ee0f-562f-4fb4-9a82-41b84be8ced8",
   "metadata": {},
   "outputs": [
    {
     "name": "stderr",
     "output_type": "stream",
     "text": [
      "[nltk_data] Downloading package vader_lexicon to\n",
      "[nltk_data]     C:\\Users\\DEICIDA\\AppData\\Roaming\\nltk_data...\n"
     ]
    },
    {
     "data": {
      "text/plain": [
       "True"
      ]
     },
     "execution_count": 24,
     "metadata": {},
     "output_type": "execute_result"
    }
   ],
   "source": [
    "import nltk\n",
    "nltk.download('vader_lexicon')\n"
   ]
  },
  {
   "cell_type": "code",
   "execution_count": 26,
   "id": "ede63213-0b13-4ae4-a1e3-a922ebdbea47",
   "metadata": {},
   "outputs": [],
   "source": [
    "from nltk.sentiment import SentimentIntensityAnalyzer\n"
   ]
  },
  {
   "cell_type": "code",
   "execution_count": 27,
   "id": "6a810b43-39a9-4b50-8316-dfd8f7130545",
   "metadata": {},
   "outputs": [],
   "source": [
    "analyzer = SentimentIntensityAnalyzer()"
   ]
  },
  {
   "cell_type": "code",
   "execution_count": 36,
   "id": "5ed4cd94-fe31-44c3-a963-54d116d7dd38",
   "metadata": {},
   "outputs": [],
   "source": [
    "scores = analyzer.polarity_scores(\"You are so beautiful\")"
   ]
  },
  {
   "cell_type": "code",
   "execution_count": 37,
   "id": "2ab38968-f7c7-4ffb-8d73-4c7aad334beb",
   "metadata": {},
   "outputs": [
    {
     "name": "stdout",
     "output_type": "stream",
     "text": [
      "It's an positive themed texed\n"
     ]
    }
   ],
   "source": [
    "if scores [\"pos\"] > scores[\"neg\"]:\n",
    "    print(\"It's an positive themed texed\")\n",
    "else:\n",
    "    print(\"It's an negative themed text\")"
   ]
  },
  {
   "cell_type": "markdown",
   "id": "43dbc629-cb89-45ae-82ba-c77b1b130986",
   "metadata": {},
   "source": [
    "# Chapters sentiment analaysis"
   ]
  },
  {
   "cell_type": "code",
   "execution_count": 76,
   "id": "47baa7af-efeb-4412-9db6-159e55b2abaa",
   "metadata": {},
   "outputs": [],
   "source": [
    "import re\n",
    "pattern = re.compile(\"Chapter [0-9]+\")\n",
    "chapters =  re.split(pattern,book)"
   ]
  },
  {
   "cell_type": "code",
   "execution_count": 77,
   "id": "61751942-bf63-44e3-bc94-3ba5257d138f",
   "metadata": {},
   "outputs": [],
   "source": [
    "chapters = chapters[:1]"
   ]
  },
  {
   "cell_type": "code",
   "execution_count": 78,
   "id": "c8672812-e3ff-4321-a8f4-b3d8f50ec449",
   "metadata": {},
   "outputs": [
    {
     "name": "stdout",
     "output_type": "stream",
     "text": [
      "1 {'neg': 0.0, 'neu': 0.0, 'pos': 0.0, 'compound': 0.0}\n"
     ]
    }
   ],
   "source": [
    "for nr, chapter in enumerate(chapters):\n",
    "    scores = analyzer.polarity_scores(chapter)\n",
    "    print(nr + 1, scores)"
   ]
  },
  {
   "cell_type": "code",
   "execution_count": null,
   "id": "9c4bb4dd-079b-48ba-894c-a9c830ab5a10",
   "metadata": {},
   "outputs": [],
   "source": []
  }
 ],
 "metadata": {
  "kernelspec": {
   "display_name": "Python 3 (ipykernel)",
   "language": "python",
   "name": "python3"
  },
  "language_info": {
   "codemirror_mode": {
    "name": "ipython",
    "version": 3
   },
   "file_extension": ".py",
   "mimetype": "text/x-python",
   "name": "python",
   "nbconvert_exporter": "python",
   "pygments_lexer": "ipython3",
   "version": "3.11.9"
  }
 },
 "nbformat": 4,
 "nbformat_minor": 5
}
